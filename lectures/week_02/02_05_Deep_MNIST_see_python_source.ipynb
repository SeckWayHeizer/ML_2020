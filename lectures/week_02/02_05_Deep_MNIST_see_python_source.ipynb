{
 "cells": [
  {
   "cell_type": "markdown",
   "metadata": {},
   "source": [
    "# Deep learning the MNIST Database\n",
    "\n",
    "We take the MNIST example from the fantastic book \"Deep Learning with Python and Keras\" by Francois Chollet. Code is available on his github[^1] repository.\n",
    "\n",
    "[^1]: See here `github.com/fchollet/deep-learning-with-python-notebooks`\n",
    "\n",
    "Remember to install the modules we require, e.g. by\n",
    "`pip3 install keras`\n"
   ]
  },
  {
   "cell_type": "code",
   "execution_count": 1,
   "metadata": {},
   "outputs": [
    {
     "name": "stderr",
     "output_type": "stream",
     "text": [
      "/Users/ts/synchronized/bitbucket/ml_lectures_1/01_lecture_ws_2020/python_source/.venv/lib/python3.8/site-packages/pandas/compat/__init__.py:120: UserWarning: Could not import the lzma module. Your installed Python is incomplete. Attempting to use lzma compression will result in a RuntimeError.\n",
      "  warnings.warn(msg)\n"
     ]
    }
   ],
   "source": [
    "# Wir importieren zunächst den MNIST Datensatz\n",
    "\n",
    "from keras.datasets import mnist\n",
    "\n",
    "(train_images, train_labels), (test_images, test_labels ) = mnist.load_data()\n"
   ]
  },
  {
   "cell_type": "markdown",
   "metadata": {},
   "source": [
    "Our supervised training data is now stored in `train_images` and `train_labels` and in addition we have a test dataset. Lets have a look at the data."
   ]
  },
  {
   "cell_type": "code",
   "execution_count": 2,
   "metadata": {},
   "outputs": [
    {
     "name": "stdout",
     "output_type": "stream",
     "text": [
      "shape of training images  : (60000, 28, 28)\n",
      "length of training labels : 60000\n",
      "training labels           : [5 0 4 ... 5 6 8]\n",
      "\n",
      "and length of test data   : 10000\n"
     ]
    }
   ],
   "source": [
    "# show the shape of the dataset \n",
    "print(\"shape of training images  :\", train_images.shape)\n",
    "print(\"length of training labels :\", len(train_labels))\n",
    "print(\"training labels           :\", train_labels)\n",
    "print(\"\\nand length of test data   :\", len(test_labels))"
   ]
  },
  {
   "cell_type": "code",
   "execution_count": 7,
   "metadata": {},
   "outputs": [
    {
     "data": {
      "image/png": "[encoded data removed]",
      "text/plain": [
       "<Figure size 432x288 with 1 Axes>"
      ]
     },
     "metadata": {
      "needs_background": "light"
     },
     "output_type": "display_data"
    }
   ],
   "source": [
    "# let us visualize the data\n",
    "digit = train_images[59998] # number 4 is a ... 9, probably :)\n",
    "import matplotlib.pyplot as plt\n",
    "plt.imshow(digit, cmap=plt.cm.binary)\n",
    "plt.show()"
   ]
  },
  {
   "cell_type": "markdown",
   "metadata": {},
   "source": [
    "Now we fire up the neural network. It will be a feedforward neural network, which is called `Sequential`.\n",
    "The activation functions will be RELU and SOFTMAX (please look this up). A dense layer is a layer which we have met in the lectures, all neurons are connected to all neurons.\n",
    "\n",
    "From the structure dataset we see that the input layer is of length 28*28"
   ]
  },
  {
   "cell_type": "code",
   "execution_count": 8,
   "metadata": {},
   "outputs": [],
   "source": [
    "from keras import models\n",
    "from keras import layers\n",
    "\n",
    "# feedforward neural network\n",
    "network = models.Sequential()\n",
    "\n",
    "# a Dense layer with 512 neurons. \n",
    "network.add(layers.Dense(512, activation='relu', input_shape=(28 * 28,)))\n",
    "network.add(layers.Dense(10, activation='softmax'))\n",
    "\n",
    "# now we specify the optimizer and the loss function.\n",
    "# metrics give the values which are monitored during the training\n",
    "network.compile(optimizer='rmsprop',\n",
    "               loss='categorical_crossentropy',\n",
    "               metrics=['accuracy'])"
   ]
  },
  {
   "cell_type": "markdown",
   "metadata": {},
   "source": [
    "Before being able to train the network, we must reshape the data in a form that suits our network. \n",
    "The main goal here is to obtain an array of size `[60000, 28*28]` and to normalize the values (which are in 0...255) to `[0,1]` by dividing with 255."
   ]
  },
  {
   "cell_type": "code",
   "execution_count": 9,
   "metadata": {},
   "outputs": [],
   "source": [
    "train_images = train_images.reshape((60000, 28 * 28))\n",
    "train_images = train_images.astype('float32') / 255 \n",
    "\n",
    "test_images = test_images.reshape((10000, 28 * 28))\n",
    "test_images = test_images.astype('float32') / 255 "
   ]
  },
  {
   "cell_type": "markdown",
   "metadata": {},
   "source": [
    "Also the labels have to brought into a desired fromat."
   ]
  },
  {
   "cell_type": "code",
   "execution_count": 10,
   "metadata": {},
   "outputs": [],
   "source": [
    "from keras.utils import to_categorical\n",
    "train_labels = to_categorical(train_labels)\n",
    "test_labels = to_categorical(test_labels)"
   ]
  },
  {
   "cell_type": "code",
   "execution_count": 12,
   "metadata": {},
   "outputs": [
    {
     "name": "stdout",
     "output_type": "stream",
     "text": [
      "Epoch 1/5\n",
      "469/469 [==============================] - 2s 3ms/step - loss: 0.0280 - accuracy: 0.9920\n",
      "Epoch 2/5\n",
      "469/469 [==============================] - 2s 4ms/step - loss: 0.0216 - accuracy: 0.9936\n",
      "Epoch 3/5\n",
      "469/469 [==============================] - 2s 4ms/step - loss: 0.0166 - accuracy: 0.9952\n",
      "Epoch 4/5\n",
      "469/469 [==============================] - 2s 4ms/step - loss: 0.0124 - accuracy: 0.9963\n",
      "Epoch 5/5\n",
      "469/469 [==============================] - 2s 4ms/step - loss: 0.0099 - accuracy: 0.9971\n"
     ]
    },
    {
     "data": {
      "text/plain": [
       "<tensorflow.python.keras.callbacks.History at 0x150b2e970>"
      ]
     },
     "execution_count": 12,
     "metadata": {},
     "output_type": "execute_result"
    }
   ],
   "source": [
    "# Train the NN\n",
    "network.fit(train_images, train_labels, epochs=5, batch_size=128)"
   ]
  },
  {
   "cell_type": "markdown",
   "metadata": {},
   "source": [
    "**YES!** Thats it. We trained the network. cool.\n",
    "\n",
    "What did we achieve ? An accuracy of 98.85% on the training data. Not bad for our first try. Can we improve ? OF COURSE (but not now - try yourself!)\n",
    "\n",
    "### How do we generalize? ie how do we perform on the test data?"
   ]
  },
  {
   "cell_type": "code",
   "execution_count": 13,
   "metadata": {},
   "outputs": [
    {
     "name": "stdout",
     "output_type": "stream",
     "text": [
      "313/313 [==============================] - 0s 607us/step - loss: 0.0795 - accuracy: 0.9793\n",
      "test data correctly classified:  0.9793000221252441\n"
     ]
    }
   ],
   "source": [
    "test_loss, test_acc = network.evaluate(test_images, test_labels)\n",
    "print (\"test data correctly classified: \", test_acc)"
   ]
  },
  {
   "cell_type": "markdown",
   "metadata": {},
   "source": [
    "Nice. We achieved 97.91% on the test data. Now start trying to understand all the steps of the program."
   ]
  },
  {
   "cell_type": "code",
   "execution_count": null,
   "metadata": {},
   "outputs": [],
   "source": []
  }
 ],
 "metadata": {
  "kernelspec": {
   "display_name": "myvenv",
   "language": "python",
   "name": "myvenv"
  },
  "language_info": {
   "codemirror_mode": {
    "name": "ipython",
    "version": 3
   },
   "file_extension": ".py",
   "mimetype": "text/x-python",
   "name": "python",
   "nbconvert_exporter": "python",
   "pygments_lexer": "ipython3",
   "version": "3.8.5"
  }
 },
 "nbformat": 4,
 "nbformat_minor": 4
}
